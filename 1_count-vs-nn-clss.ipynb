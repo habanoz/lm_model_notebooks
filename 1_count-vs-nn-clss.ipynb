{
 "cells": [
  {
   "cell_type": "code",
   "execution_count": 11,
   "metadata": {},
   "outputs": [],
   "source": [
    "import torch\n",
    "from torch.nn import functional as F\n",
    "from matplotlib import pyplot as plt"
   ]
  },
  {
   "cell_type": "markdown",
   "metadata": {},
   "source": [
    "## Load Data"
   ]
  },
  {
   "cell_type": "code",
   "execution_count": 362,
   "metadata": {},
   "outputs": [
    {
     "name": "stdout",
     "output_type": "stream",
     "text": [
      "--2024-06-24 11:26:18--  https://raw.githubusercontent.com/ncarkaci/TDKDictionaryCrawler/master/ortak_kelimeler.txt\n",
      "Resolving raw.githubusercontent.com (raw.githubusercontent.com)... 185.199.111.133, 185.199.109.133, 185.199.108.133, ...\n",
      "Connecting to raw.githubusercontent.com (raw.githubusercontent.com)|185.199.111.133|:443... connected.\n",
      "HTTP request sent, awaiting response... 200 OK\n",
      "Length: 402869 (393K) [text/plain]\n",
      "Saving to: ‘ortak_kelimeler.txt.1’\n",
      "\n",
      "ortak_kelimeler.txt 100%[===================>] 393.43K  --.-KB/s    in 0.1s    \n",
      "\n",
      "2024-06-24 11:26:19 (3.42 MB/s) - ‘ortak_kelimeler.txt.1’ saved [402869/402869]\n",
      "\n"
     ]
    }
   ],
   "source": [
    "!wget https://raw.githubusercontent.com/ncarkaci/TDKDictionaryCrawler/master/ortak_kelimeler.txt"
   ]
  },
  {
   "cell_type": "code",
   "execution_count": 2,
   "metadata": {},
   "outputs": [],
   "source": [
    "with open(\"ortak_kelimeler.txt\") as f:\n",
    "    text = f.read()"
   ]
  },
  {
   "cell_type": "code",
   "execution_count": 3,
   "metadata": {},
   "outputs": [],
   "source": [
    "words = text.split(\"\\n\")"
   ]
  },
  {
   "cell_type": "code",
   "execution_count": 4,
   "metadata": {},
   "outputs": [
    {
     "data": {
      "text/plain": [
       "29"
      ]
     },
     "execution_count": 4,
     "metadata": {},
     "output_type": "execute_result"
    }
   ],
   "source": [
    "long_text = text.replace(\"\\n\",\"\")\n",
    "ids = list(set(long_text))\n",
    "len(ids)"
   ]
  },
  {
   "cell_type": "code",
   "execution_count": 5,
   "metadata": {},
   "outputs": [
    {
     "data": {
      "text/plain": [
       "[(97, 'a'),\n",
       " (98, 'b'),\n",
       " (99, 'c'),\n",
       " (100, 'd'),\n",
       " (101, 'e'),\n",
       " (102, 'f'),\n",
       " (103, 'g'),\n",
       " (104, 'h'),\n",
       " (105, 'i'),\n",
       " (106, 'j'),\n",
       " (107, 'k'),\n",
       " (108, 'l'),\n",
       " (109, 'm'),\n",
       " (110, 'n'),\n",
       " (111, 'o'),\n",
       " (112, 'p'),\n",
       " (114, 'r'),\n",
       " (115, 's'),\n",
       " (116, 't'),\n",
       " (117, 'u'),\n",
       " (118, 'v'),\n",
       " (121, 'y'),\n",
       " (122, 'z'),\n",
       " (231, 'ç'),\n",
       " (246, 'ö'),\n",
       " (252, 'ü'),\n",
       " (287, 'ğ'),\n",
       " (305, 'ı'),\n",
       " (351, 'ş')]"
      ]
     },
     "execution_count": 5,
     "metadata": {},
     "output_type": "execute_result"
    }
   ],
   "source": [
    "ordinal_char_pairs = sorted([(ord(c),c) for c in ids])\n",
    "ordinal_char_pairs"
   ]
  },
  {
   "cell_type": "markdown",
   "metadata": {},
   "source": [
    "## Encode & Decode Functions"
   ]
  },
  {
   "cell_type": "code",
   "execution_count": 6,
   "metadata": {},
   "outputs": [],
   "source": [
    "ctoi = {c:i for i,(o,c) in enumerate(ordinal_char_pairs)}\n",
    "itoc =  {i:c for i,(o,c) in enumerate(ordinal_char_pairs)}"
   ]
  },
  {
   "cell_type": "code",
   "execution_count": 7,
   "metadata": {},
   "outputs": [],
   "source": [
    "ctoi['.']=len(ctoi)\n",
    "itoc[len(itoc)]='.'"
   ]
  },
  {
   "cell_type": "code",
   "execution_count": null,
   "metadata": {},
   "outputs": [],
   "source": []
  },
  {
   "cell_type": "code",
   "execution_count": 8,
   "metadata": {},
   "outputs": [],
   "source": [
    "def encode(input:str):\n",
    "    return [ctoi[c] for c in input]\n",
    "\n",
    "def decode(ids):\n",
    "    return \"\".join([itoc[i] for i in ids])"
   ]
  },
  {
   "cell_type": "code",
   "execution_count": 9,
   "metadata": {},
   "outputs": [],
   "source": [
    "assert decode(encode(\"zemberek\"))=='zemberek'"
   ]
  },
  {
   "cell_type": "markdown",
   "metadata": {},
   "source": [
    "## Prepare Training Data"
   ]
  },
  {
   "cell_type": "code",
   "execution_count": 12,
   "metadata": {},
   "outputs": [],
   "source": [
    "xs, ys = [], []\n",
    "for w in words:\n",
    "    w = \".\"+w+\".\"\n",
    "    for c1, c2 in zip(w, w[1:]):\n",
    "        ix = ctoi[c1]\n",
    "        iy = ctoi[c2]\n",
    "\n",
    "        xs.append(ix)\n",
    "        ys.append(iy)\n",
    "xs = torch.tensor(xs)\n",
    "ys = torch.tensor(ys)"
   ]
  },
  {
   "cell_type": "code",
   "execution_count": 13,
   "metadata": {},
   "outputs": [
    {
     "data": {
      "text/plain": [
       "torch.Size([367078])"
      ]
     },
     "execution_count": 13,
     "metadata": {},
     "output_type": "execute_result"
    }
   ],
   "source": [
    "xs.shape"
   ]
  },
  {
   "cell_type": "code",
   "execution_count": 15,
   "metadata": {},
   "outputs": [
    {
     "data": {
      "text/plain": [
       "(tensor([29,  0,  1,  0, 29,  0,  1,  0,  2, 27]),\n",
       " tensor([ 0,  1,  0, 29,  0,  1,  0,  2, 27, 29]))"
      ]
     },
     "execution_count": 15,
     "metadata": {},
     "output_type": "execute_result"
    }
   ],
   "source": [
    "xs[:10] ,ys[:10]"
   ]
  },
  {
   "cell_type": "markdown",
   "metadata": {},
   "source": [
    "## Helpers"
   ]
  },
  {
   "cell_type": "code",
   "execution_count": 17,
   "metadata": {},
   "outputs": [],
   "source": [
    "import abc\n",
    "\n",
    "\n",
    "class BaseBiGram(abc.ABC):\n",
    "\n",
    "    @abc.abstractmethod\n",
    "    def forward(self, xs):\n",
    "        pass\n",
    "\n",
    "    def __call__(self, xs):\n",
    "        return self.forward(xs)\n",
    "\n",
    "    @abc.abstractmethod\n",
    "    def train(self, xs, ys):\n",
    "        pass\n",
    "\n",
    "    def generate(self):\n",
    "        ids = []\n",
    "        special = ctoi['.']\n",
    "        ix = special\n",
    "        while True:\n",
    "            ix = torch.multinomial(self.forward(ix), num_samples=1, replacement=True).item()\n",
    "            if ix == special:\n",
    "                break\n",
    "            ids.append(ix)\n",
    "\n",
    "        return decode(ids)"
   ]
  },
  {
   "cell_type": "markdown",
   "metadata": {},
   "source": [
    "## Count Based"
   ]
  },
  {
   "cell_type": "code",
   "execution_count": 18,
   "metadata": {},
   "outputs": [],
   "source": [
    "T = torch.zeros([30, 30], dtype=torch.int32)"
   ]
  },
  {
   "cell_type": "code",
   "execution_count": 19,
   "metadata": {},
   "outputs": [],
   "source": [
    "probs = T / T.sum(dim=1, keepdim=True)"
   ]
  },
  {
   "cell_type": "code",
   "execution_count": 24,
   "metadata": {},
   "outputs": [],
   "source": [
    "class CountBiGram(BaseBiGram):\n",
    "    def __init__(self):\n",
    "        self.probs = None,\n",
    "\n",
    "    def forward(self, ix):\n",
    "        return self.probs[ix]\n",
    "\n",
    "    def train(self, xs, ys):\n",
    "        T = torch.zeros([30, 30], dtype=torch.int32)\n",
    "\n",
    "        for ix, iy in zip(xs, ys):\n",
    "            T[ix][iy] += 1\n",
    "\n",
    "        self.probs = T / T.sum(dim=1, keepdim=True)\n",
    "\n",
    "        print(f\"probs {self.probs.shape}\")\n",
    "        print(f\"self.probs[xs, ys] {self.probs[xs, ys].shape}\")\n",
    "        print(f\"xs {xs.shape}\")\n",
    "        print(f\"ys {ys.shape}\")\n",
    "\n",
    "        loss = -self.probs[xs, ys].log().mean()\n",
    "        print(f\"loss: {loss.item():4f}\")\n",
    "\n"
   ]
  },
  {
   "cell_type": "code",
   "execution_count": 25,
   "metadata": {},
   "outputs": [],
   "source": [
    "bg = CountBiGram()"
   ]
  },
  {
   "cell_type": "code",
   "execution_count": 26,
   "metadata": {},
   "outputs": [
    {
     "name": "stdout",
     "output_type": "stream",
     "text": [
      "probs torch.Size([30, 30])\n",
      "self.probs[xs, ys] torch.Size([367078])\n",
      "xs torch.Size([367078])\n",
      "ys torch.Size([367078])\n",
      "loss: 2.522550\n"
     ]
    }
   ],
   "source": [
    "bg.train(xs,ys)"
   ]
  },
  {
   "cell_type": "markdown",
   "metadata": {},
   "source": [
    "## Neural Net Based"
   ]
  },
  {
   "cell_type": "code",
   "execution_count": 343,
   "metadata": {},
   "outputs": [],
   "source": [
    "class NeuralBiGram(BaseBiGram):\n",
    "    def __init__(self):\n",
    "        self.W = None\n",
    "\n",
    "        # for logging\n",
    "        self.losses = None\n",
    "        self.grads = None\n",
    "\n",
    "    def forward(self, ix):\n",
    "        ixs = ix if isinstance(ix, list) else [ix]\n",
    "\n",
    "        # Following two approaches are similar, second option is m ore efficient\n",
    "\n",
    "        # Option 1 - use one hot vectors and matrix multiplication to get the logits\n",
    "        # xenc = F.one_hot(xs, num_classes=30).float()\n",
    "        # logits = xenc @ W  # log counts\n",
    "\n",
    "        # Option 2 - use array indexing to get the logits\n",
    "        logits = self.W[ixs]\n",
    "\n",
    "        # Softmax\n",
    "        counts = logits.exp()\n",
    "        probs = counts / counts.sum(1, keepdim=True)\n",
    "\n",
    "        return probs\n",
    "\n",
    "    def train(self, xs, ys):\n",
    "        self.losses = []\n",
    "        self.grads = []\n",
    "\n",
    "        W = torch.rand((30, 30), requires_grad=True)\n",
    "\n",
    "        for i in range(1000):\n",
    "            probs = self.forward(xs)\n",
    "\n",
    "            # negative log likelihood\n",
    "            loss = -probs[torch.arange(len(xs)), ys].log().mean()\n",
    "\n",
    "            if i % 10 == 0:\n",
    "                print(f\"Step {i} | loss: {loss.item():4f}\")\n",
    "\n",
    "            # backward\n",
    "            W.grad = None\n",
    "            loss.backward()\n",
    "\n",
    "            # update weights\n",
    "            W.data += -10 * W.grad\n",
    "\n",
    "            # logging\n",
    "            self.losses.append(loss.item())\n",
    "            self.grads.append(W.grad)\n",
    "\n",
    "        self.W = W\n",
    "        print(f\"loss: {loss.item():4f}\")"
   ]
  },
  {
   "cell_type": "code",
   "execution_count": 344,
   "metadata": {},
   "outputs": [],
   "source": [
    "nn = NeuralBiGram()"
   ]
  },
  {
   "cell_type": "code",
   "execution_count": 345,
   "metadata": {},
   "outputs": [],
   "source": [
    "nn.W = W"
   ]
  },
  {
   "cell_type": "code",
   "execution_count": 332,
   "metadata": {},
   "outputs": [
    {
     "name": "stdout",
     "output_type": "stream",
     "text": [
      "Step 0 | loss: 3.391403\n",
      "Step 10 | loss: 3.074541\n",
      "Step 20 | loss: 2.921024\n",
      "Step 30 | loss: 2.835158\n",
      "Step 40 | loss: 2.779260\n",
      "Step 50 | loss: 2.739571\n",
      "Step 60 | loss: 2.709913\n",
      "Step 70 | loss: 2.686975\n",
      "Step 80 | loss: 2.668765\n",
      "Step 90 | loss: 2.653999\n",
      "Step 100 | loss: 2.641812\n",
      "Step 110 | loss: 2.631596\n",
      "Step 120 | loss: 2.622919\n",
      "Step 130 | loss: 2.615462\n",
      "Step 140 | loss: 2.608990\n",
      "Step 150 | loss: 2.603322\n",
      "Step 160 | loss: 2.598319\n",
      "Step 170 | loss: 2.593873\n",
      "Step 180 | loss: 2.589896\n",
      "Step 190 | loss: 2.586320\n",
      "Step 200 | loss: 2.583088\n",
      "Step 210 | loss: 2.580153\n",
      "Step 220 | loss: 2.577478\n",
      "Step 230 | loss: 2.575029\n",
      "Step 240 | loss: 2.572780\n",
      "Step 250 | loss: 2.570707\n",
      "Step 260 | loss: 2.568791\n",
      "Step 270 | loss: 2.567016\n",
      "Step 280 | loss: 2.565365\n",
      "Step 290 | loss: 2.563828\n",
      "Step 300 | loss: 2.562392\n",
      "Step 310 | loss: 2.561048\n",
      "Step 320 | loss: 2.559788\n",
      "Step 330 | loss: 2.558603\n",
      "Step 340 | loss: 2.557488\n",
      "Step 350 | loss: 2.556437\n",
      "Step 360 | loss: 2.555444\n",
      "Step 370 | loss: 2.554505\n",
      "Step 380 | loss: 2.553615\n",
      "Step 390 | loss: 2.552771\n",
      "Step 400 | loss: 2.551969\n",
      "Step 410 | loss: 2.551206\n",
      "Step 420 | loss: 2.550480\n",
      "Step 430 | loss: 2.549787\n",
      "Step 440 | loss: 2.549126\n",
      "Step 450 | loss: 2.548495\n",
      "Step 460 | loss: 2.547892\n",
      "Step 470 | loss: 2.547314\n",
      "Step 480 | loss: 2.546761\n",
      "Step 490 | loss: 2.546230\n",
      "Step 500 | loss: 2.545721\n",
      "Step 510 | loss: 2.545232\n",
      "Step 520 | loss: 2.544762\n",
      "Step 530 | loss: 2.544311\n",
      "Step 540 | loss: 2.543876\n",
      "Step 550 | loss: 2.543457\n",
      "Step 560 | loss: 2.543054\n",
      "Step 570 | loss: 2.542665\n",
      "Step 580 | loss: 2.542289\n",
      "Step 590 | loss: 2.541927\n",
      "Step 600 | loss: 2.541577\n",
      "Step 610 | loss: 2.541239\n",
      "Step 620 | loss: 2.540912\n",
      "Step 630 | loss: 2.540596\n",
      "Step 640 | loss: 2.540290\n",
      "Step 650 | loss: 2.539994\n",
      "Step 660 | loss: 2.539706\n",
      "Step 670 | loss: 2.539428\n",
      "Step 680 | loss: 2.539158\n",
      "Step 690 | loss: 2.538897\n",
      "Step 700 | loss: 2.538643\n",
      "Step 710 | loss: 2.538396\n",
      "Step 720 | loss: 2.538157\n",
      "Step 730 | loss: 2.537924\n",
      "Step 740 | loss: 2.537698\n",
      "Step 750 | loss: 2.537478\n",
      "Step 760 | loss: 2.537264\n",
      "Step 770 | loss: 2.537056\n",
      "Step 780 | loss: 2.536854\n",
      "Step 790 | loss: 2.536657\n",
      "Step 800 | loss: 2.536465\n",
      "Step 810 | loss: 2.536278\n",
      "Step 820 | loss: 2.536096\n",
      "Step 830 | loss: 2.535918\n",
      "Step 840 | loss: 2.535745\n",
      "Step 850 | loss: 2.535576\n",
      "Step 860 | loss: 2.535412\n",
      "Step 870 | loss: 2.535251\n",
      "Step 880 | loss: 2.535094\n",
      "Step 890 | loss: 2.534941\n",
      "Step 900 | loss: 2.534791\n",
      "Step 910 | loss: 2.534645\n",
      "Step 920 | loss: 2.534502\n",
      "Step 930 | loss: 2.534362\n",
      "Step 940 | loss: 2.534225\n",
      "Step 950 | loss: 2.534092\n",
      "Step 960 | loss: 2.533961\n",
      "Step 970 | loss: 2.533834\n",
      "Step 980 | loss: 2.533708\n",
      "Step 990 | loss: 2.533586\n",
      "loss: 2.533478\n"
     ]
    }
   ],
   "source": [
    "nn.train(xs,ys)\n",
    "W = nn.W"
   ]
  },
  {
   "cell_type": "markdown",
   "metadata": {},
   "source": [
    "### Plot training details"
   ]
  },
  {
   "cell_type": "code",
   "execution_count": 333,
   "metadata": {},
   "outputs": [
    {
     "data": {
      "image/png": "[encoded data removed]",
      "text/plain": [
       "<Figure size 2000x1000 with 2 Axes>"
      ]
     },
     "metadata": {},
     "output_type": "display_data"
    }
   ],
   "source": [
    "fig, axs = plt.subplots(1, 2, figsize=(20,10))\n",
    "\n",
    "\n",
    "axs[0].plot(nn.losses)\n",
    "axs[0].set_title('Losses')\n",
    "\n",
    "axs[1].plot([g.max() for g in nn.grads], label=\"Max\")\n",
    "axs[1].plot([g.min() for g in nn.grads], label=\"Min\")\n",
    "axs[1].plot([g.mean() for g in nn.grads], label=\"Avg\")\n",
    "axs[1].set_title('Gradients')\n",
    "\n",
    "plt.legend()\n",
    "plt.show()"
   ]
  },
  {
   "cell_type": "markdown",
   "metadata": {},
   "source": [
    "## Generate"
   ]
  },
  {
   "cell_type": "code",
   "execution_count": 346,
   "metadata": {},
   "outputs": [
    {
     "name": "stdout",
     "output_type": "stream",
     "text": [
      "atettı\n",
      "ik\n",
      "öncırısörarsı\n",
      "kakl\n",
      "satsabiçinorekom\n",
      "bil\n",
      "stlllıdaşapek\n",
      "k\n",
      "s\n",
      "ir\n"
     ]
    }
   ],
   "source": [
    "torch.manual_seed(35)\n",
    "for i in range(10):\n",
    "    print(bg.generate())"
   ]
  },
  {
   "cell_type": "code",
   "execution_count": 347,
   "metadata": {},
   "outputs": [
    {
     "name": "stdout",
     "output_type": "stream",
     "text": [
      "atettı\n",
      "ik\n",
      "öncırısörarsı\n",
      "kakl\n",
      "satsabiçinorekom\n",
      "bil\n",
      "stlllıdaşapzk\n",
      "k\n",
      "s\n",
      "ir\n"
     ]
    }
   ],
   "source": [
    "torch.manual_seed(35)\n",
    "for i in range(10):\n",
    "    print(nn.generate())"
   ]
  }
 ],
 "metadata": {
  "kernelspec": {
   "display_name": ".venv",
   "language": "python",
   "name": "python3"
  },
  "language_info": {
   "codemirror_mode": {
    "name": "ipython",
    "version": 3
   },
   "file_extension": ".py",
   "mimetype": "text/x-python",
   "name": "python",
   "nbconvert_exporter": "python",
   "pygments_lexer": "ipython3",
   "version": "3.10.12"
  }
 },
 "nbformat": 4,
 "nbformat_minor": 2
}
