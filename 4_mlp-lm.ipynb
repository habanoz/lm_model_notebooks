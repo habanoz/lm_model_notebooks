{
 "cells": [
  {
   "cell_type": "code",
   "execution_count": 1,
   "metadata": {},
   "outputs": [],
   "source": [
    "import torch\n",
    "from torch.nn import functional as F\n",
    "from matplotlib import pyplot as plt\n",
    "import random"
   ]
  },
  {
   "cell_type": "markdown",
   "metadata": {},
   "source": [
    "## Load data"
   ]
  },
  {
   "cell_type": "code",
   "execution_count": 6,
   "metadata": {},
   "outputs": [
    {
     "name": "stderr",
     "output_type": "stream",
     "text": [
      "'wget' is not recognized as an internal or external command,\n",
      "operable program or batch file.\n"
     ]
    }
   ],
   "source": [
    "!wget https://raw.githubusercontent.com/ncarkaci/TDKDictionaryCrawler/master/ortak_kelimeler.txt"
   ]
  },
  {
   "cell_type": "code",
   "execution_count": 2,
   "metadata": {},
   "outputs": [],
   "source": [
    "with open(\"ortak_kelimeler.txt\", encoding='utf-8') as f:\n",
    "    text = f.read()"
   ]
  },
  {
   "cell_type": "code",
   "execution_count": 3,
   "metadata": {},
   "outputs": [],
   "source": [
    "words = text.split(\"\\n\")"
   ]
  },
  {
   "cell_type": "code",
   "execution_count": 4,
   "metadata": {},
   "outputs": [
    {
     "data": {
      "text/plain": [
       "29"
      ]
     },
     "execution_count": 4,
     "metadata": {},
     "output_type": "execute_result"
    }
   ],
   "source": [
    "long_text = text.replace(\"\\n\",\"\")\n",
    "ids = list(set(long_text))\n",
    "len(ids)"
   ]
  },
  {
   "cell_type": "code",
   "execution_count": 5,
   "metadata": {},
   "outputs": [
    {
     "data": {
      "text/plain": [
       "[(97, 'a'),\n",
       " (98, 'b'),\n",
       " (99, 'c'),\n",
       " (100, 'd'),\n",
       " (101, 'e'),\n",
       " (102, 'f'),\n",
       " (103, 'g'),\n",
       " (104, 'h'),\n",
       " (105, 'i'),\n",
       " (106, 'j'),\n",
       " (107, 'k'),\n",
       " (108, 'l'),\n",
       " (109, 'm'),\n",
       " (110, 'n'),\n",
       " (111, 'o'),\n",
       " (112, 'p'),\n",
       " (114, 'r'),\n",
       " (115, 's'),\n",
       " (116, 't'),\n",
       " (117, 'u'),\n",
       " (118, 'v'),\n",
       " (121, 'y'),\n",
       " (122, 'z'),\n",
       " (231, 'ç'),\n",
       " (246, 'ö'),\n",
       " (252, 'ü'),\n",
       " (287, 'ğ'),\n",
       " (305, 'ı'),\n",
       " (351, 'ş')]"
      ]
     },
     "execution_count": 5,
     "metadata": {},
     "output_type": "execute_result"
    }
   ],
   "source": [
    "ordinal_char_pairs = sorted([(ord(c),c) for c in ids])\n",
    "ordinal_char_pairs"
   ]
  },
  {
   "cell_type": "code",
   "execution_count": 6,
   "metadata": {},
   "outputs": [
    {
     "data": {
      "text/plain": [
       "29"
      ]
     },
     "execution_count": 6,
     "metadata": {},
     "output_type": "execute_result"
    }
   ],
   "source": [
    "len(ordinal_char_pairs)"
   ]
  },
  {
   "cell_type": "markdown",
   "metadata": {},
   "source": [
    "## Encode & Decode Functions"
   ]
  },
  {
   "cell_type": "code",
   "execution_count": 7,
   "metadata": {},
   "outputs": [],
   "source": [
    "ctoi = {c:i for i,(o,c) in enumerate(ordinal_char_pairs)}\n",
    "itoc =  {i:c for i,(o,c) in enumerate(ordinal_char_pairs)}"
   ]
  },
  {
   "cell_type": "code",
   "execution_count": 8,
   "metadata": {},
   "outputs": [],
   "source": [
    "ctoi['.']=len(ctoi)\n",
    "itoc[len(itoc)]='.'"
   ]
  },
  {
   "cell_type": "code",
   "execution_count": 9,
   "metadata": {},
   "outputs": [],
   "source": [
    "def encode(input:str):\n",
    "    return [ctoi[c] for c in input]\n",
    "\n",
    "def decode(ids):\n",
    "    return \"\".join([itoc[i] for i in ids])"
   ]
  },
  {
   "cell_type": "code",
   "execution_count": 10,
   "metadata": {},
   "outputs": [],
   "source": [
    "assert decode(encode(\"zemberek\"))=='zemberek'"
   ]
  },
  {
   "cell_type": "markdown",
   "metadata": {},
   "source": [
    "## Helpers"
   ]
  },
  {
   "cell_type": "code",
   "execution_count": 11,
   "metadata": {},
   "outputs": [],
   "source": [
    "def plot_training_loss(nn):\n",
    "    fig, axs = plt.subplots(1, 2, figsize=(20, 10))\n",
    "\n",
    "\n",
    "    axs[0].plot(nn.losses, label=\"Neural net train loss\")\n",
    "    axs[0].plot(nn.val_loss, label=\"Neural net val loss\")\n",
    "    axs[0].set_title('Losses')\n",
    "    axs[0].legend()\n",
    "\n",
    "    axs[1].plot([g[1] for g in nn.grads], label=\"Max\")\n",
    "    axs[1].plot([g[0] for g in nn.grads], label=\"Min\")\n",
    "    axs[1].plot([g[2] for g in nn.grads], label=\"Avg\")\n",
    "    axs[1].set_title('Gradients')\n",
    "    axs[1].legend()\n",
    "\n",
    "    plt.show()"
   ]
  },
  {
   "cell_type": "markdown",
   "metadata": {},
   "source": [
    "## Prepare Training Data"
   ]
  },
  {
   "cell_type": "code",
   "execution_count": 12,
   "metadata": {},
   "outputs": [],
   "source": [
    "def generate_data(words, block_size):\n",
    "    xs, ys = [], []\n",
    "    for w in words:\n",
    "        context = [ctoi[\".\"]]*block_size\n",
    "        for c in w+'.':\n",
    "            id = ctoi[c]\n",
    "\n",
    "            xs.append(context)\n",
    "            ys.append(id)\n",
    "\n",
    "            context = context[1:]+[id]\n",
    "\n",
    "    print(f\"Generated {len(xs)} samples\")\n",
    "\n",
    "    xs = torch.tensor(xs)\n",
    "    ys = torch.tensor(ys)\n",
    "\n",
    "    return xs, ys"
   ]
  },
  {
   "cell_type": "code",
   "execution_count": 13,
   "metadata": {},
   "outputs": [],
   "source": [
    "random.seed(13)\n",
    "random.shuffle(words)\n",
    "\n",
    "n = len(words)\n",
    "n1 = int(n*0.8)\n",
    "n2 = int(n*0.9)"
   ]
  },
  {
   "cell_type": "code",
   "execution_count": 14,
   "metadata": {},
   "outputs": [],
   "source": [
    "LR = 10"
   ]
  },
  {
   "cell_type": "markdown",
   "metadata": {},
   "source": [
    "## Train"
   ]
  },
  {
   "cell_type": "code",
   "execution_count": 53,
   "metadata": {},
   "outputs": [],
   "source": [
    "class MlpLM:\n",
    "    def __init__(self, block_size, n_embd):\n",
    "\n",
    "        self.block_size = block_size\n",
    "        self.n_embd = n_embd\n",
    "\n",
    "        self.C = torch.rand((30, self.n_embd))\n",
    "        self.W1 = torch.rand((self.n_embd*self.block_size, 100))\n",
    "        self.b1 = torch.rand(100)\n",
    "        self.W2 = torch.rand((100, 30))\n",
    "        self.b2 = torch.rand(30)\n",
    "        self.parameters = [self.C, self.W1, self.b1, self.W2, self.b2]\n",
    "\n",
    "        # for logging\n",
    "        self.losses = None\n",
    "        self.val_loss = None\n",
    "        self.grads = None\n",
    "        self.lri = None\n",
    "\n",
    "    def forward(self, ix):\n",
    "        assert len(ix.shape) == 2\n",
    "        assert ix.shape[1] == self.block_size\n",
    "        batch_size = ix.shape[0]\n",
    "\n",
    "        # 1- embeddings\n",
    "        embd = self.C[ix].float()\n",
    "        embd = embd.view(-1, self.block_size * self.n_embd)\n",
    "        assert embd.shape == (batch_size, self.block_size * self.n_embd)\n",
    "\n",
    "        # 2- hidden layer\n",
    "        h = torch.tanh(embd@self.W1 + self.b1)\n",
    "        assert h.shape == (batch_size, 100)\n",
    "\n",
    "        logits = h@self.W2 + self.b2\n",
    "        assert logits.shape == (batch_size, 30)\n",
    "\n",
    "        # 3- softmax\n",
    "        counts = logits.exp() + 1e-3\n",
    "        probs = counts / counts.sum(dim=-1, keepdim=True)\n",
    "\n",
    "        assert probs.shape == (batch_size, 30)\n",
    "        for b in range(batch_size):\n",
    "            assert probs[b].sum().item()-1.0 < 1e-4, f\"Prob sum for batch {b} is {probs[b].sum().item()}\"\n",
    "\n",
    "        return logits, probs\n",
    "\n",
    "    def train(self, xs, ys, xval, yval, lr=0.1, steps=1000):\n",
    "        self.losses = []\n",
    "        self.val_loss = []\n",
    "        self.grads = []\n",
    "\n",
    "        if lr is None:\n",
    "            self.lri = []\n",
    "            lre = torch.linspace(-3, 0, steps)\n",
    "            lrs = 10**lre\n",
    "\n",
    "        for p in self.parameters:\n",
    "            p.requires_grad = True\n",
    "\n",
    "        print(\n",
    "            f\"Model has {sum([p.nelement() for p in self.parameters])} parameters!\")\n",
    "        print(f\"Using {len(xs)} samples\")\n",
    "\n",
    "        # set default loss value to zero\n",
    "        loss = val_loss = torch.zeros((1))[0]\n",
    "\n",
    "        # training loop\n",
    "        for i in range(steps):\n",
    "            logits, probs = self.forward(xs)\n",
    "\n",
    "            # loss: negative log likelihood\n",
    "            loss = -probs[torch.arange(len(xs)), ys].log().mean()\n",
    "            loss_f = F.cross_entropy(logits, ys)\n",
    "            assert abs(loss-loss_f) < 1e-3, f\"Loss mismatch {loss} vs {loss_f} diff {abs(loss-loss_f)}\"\n",
    "\n",
    "            # backward\n",
    "            for p in self.parameters:\n",
    "                p.grad = None\n",
    "\n",
    "            loss.backward()\n",
    "\n",
    "            if self.lri is not None:\n",
    "                lr = lrs[i]\n",
    "                self.lri.append(lre[i])\n",
    "\n",
    "            # update weights\n",
    "            for p in self.parameters:\n",
    "                p.data -= lr * p.grad\n",
    "\n",
    "            # log validation loss\n",
    "            if xval is not None:\n",
    "                with torch.no_grad():\n",
    "                    val_logits, val_probs = self.forward(xval)\n",
    "                    val_loss = -val_probs[torch.arange(len(xval)), yval].log().mean()\n",
    "\n",
    "                    val_loss_f = F.cross_entropy(val_logits, yval)\n",
    "                    assert abs(val_loss-val_loss_f) < 1e-3, f\"Val loss mismatch {val_loss} vs {val_loss_f} diff {abs(val_loss-val_loss_f)}\"\n",
    "                    \n",
    "                    self.val_loss.append(val_loss.item())\n",
    "\n",
    "            # report losses\n",
    "            if steps <= 20 or i % 10 == 0:\n",
    "                print(f\"Step {i} | loss: {loss.item():.4f} | val loss: {val_loss.item():.4f}\")\n",
    "\n",
    "            # logging\n",
    "            self.losses.append(loss.item())\n",
    "            self.grads.append([\n",
    "                min([p.grad.min().item() for p in self.parameters]),\n",
    "                max([p.grad.max().item() for p in self.parameters]),\n",
    "                sum([p.grad.mean().item()\n",
    "                    for p in self.parameters])/len(self.parameters)\n",
    "            ]\n",
    "            )\n",
    "\n",
    "        print(f\"loss: {loss.item():.4f} validation loss: {val_loss.item():.4f}\")\n",
    "\n",
    "    def generate(self):\n",
    "        reverse_offset = -self.n+1\n",
    "        n_start_chars = self.n-1\n",
    "\n",
    "        chars = torch.tensor([ctoi['.']]*n_start_chars, dtype=torch.int)\n",
    "\n",
    "        while True:\n",
    "            probs = self.forward(chars[reverse_offset:])\n",
    "            assert probs.shape == (30,), f\"{probs.shape=}\"\n",
    "\n",
    "            next_char = torch.multinomial(probs, 1, replacement=True)\n",
    "\n",
    "            if next_char.item() == ctoi['.']:\n",
    "                return decode(list(chars.numpy())[n_start_chars:])\n",
    "\n",
    "            chars = torch.concat((chars, next_char), dim=-1)"
   ]
  },
  {
   "cell_type": "markdown",
   "metadata": {},
   "source": [
    "### Context length 1 (Bi-gram)"
   ]
  },
  {
   "cell_type": "code",
   "execution_count": 47,
   "metadata": {},
   "outputs": [
    {
     "name": "stdout",
     "output_type": "stream",
     "text": [
      "Generated 293606 samples\n",
      "Generated 36892 samples\n"
     ]
    }
   ],
   "source": [
    "block_size = 1\n",
    "xs_train, ys_train = generate_data(words[:n1], block_size)\n",
    "xs_valid, ys_valid = generate_data(words[n1:n2], block_size)\n",
    "# xs_test, ys_test = generate_data(words[n2:], block_size)"
   ]
  },
  {
   "cell_type": "code",
   "execution_count": 48,
   "metadata": {},
   "outputs": [
    {
     "name": "stdout",
     "output_type": "stream",
     "text": [
      ".p\n",
      "pa\n",
      "an\n",
      "nt\n",
      "te\n",
      "ei\n",
      "iz\n",
      "zm\n",
      "m.\n",
      ".f\n"
     ]
    }
   ],
   "source": [
    "for i in range(10):\n",
    "    print(decode(list(torch.concat((xs_train[i], ys_train[i,None])).numpy())))"
   ]
  },
  {
   "cell_type": "code",
   "execution_count": 49,
   "metadata": {},
   "outputs": [
    {
     "name": "stdout",
     "output_type": "stream",
     "text": [
      "Model has 3390 parameters!\n",
      "Using 1000 samples\n",
      "Step 0 | loss: 5.5327 | val loss: 0.0000\n",
      "Step 10 | loss: 5.2285 | val loss: 0.0000\n",
      "Step 20 | loss: 4.9753 | val loss: 0.0000\n",
      "Step 30 | loss: 4.7703 | val loss: 0.0000\n",
      "Step 40 | loss: 4.6049 | val loss: 0.0000\n",
      "Step 50 | loss: 4.4700 | val loss: 0.0000\n",
      "Step 60 | loss: 4.3571 | val loss: 0.0000\n",
      "Step 70 | loss: 4.2601 | val loss: 0.0000\n",
      "Step 80 | loss: 4.1747 | val loss: 0.0000\n",
      "Step 90 | loss: 4.0977 | val loss: 0.0000\n",
      "Step 100 | loss: 4.0271 | val loss: 0.0000\n",
      "Step 110 | loss: 3.9614 | val loss: 0.0000\n",
      "Step 120 | loss: 3.8996 | val loss: 0.0000\n",
      "Step 130 | loss: 3.8411 | val loss: 0.0000\n",
      "Step 140 | loss: 3.7853 | val loss: 0.0000\n",
      "Step 150 | loss: 3.7319 | val loss: 0.0000\n",
      "Step 160 | loss: 3.6807 | val loss: 0.0000\n",
      "Step 170 | loss: 3.6313 | val loss: 0.0000\n",
      "Step 180 | loss: 3.5838 | val loss: 0.0000\n",
      "Step 190 | loss: 3.5380 | val loss: 0.0000\n",
      "Step 200 | loss: 3.4939 | val loss: 0.0000\n",
      "Step 210 | loss: 3.4515 | val loss: 0.0000\n",
      "Step 220 | loss: 3.4112 | val loss: 0.0000\n",
      "Step 230 | loss: 3.3732 | val loss: 0.0000\n",
      "Step 240 | loss: 3.3377 | val loss: 0.0000\n",
      "Step 250 | loss: 3.3051 | val loss: 0.0000\n",
      "Step 260 | loss: 3.2755 | val loss: 0.0000\n",
      "Step 270 | loss: 3.2491 | val loss: 0.0000\n",
      "Step 280 | loss: 3.2256 | val loss: 0.0000\n",
      "Step 290 | loss: 3.2047 | val loss: 0.0000\n",
      "Step 300 | loss: 3.1860 | val loss: 0.0000\n",
      "Step 310 | loss: 3.1691 | val loss: 0.0000\n",
      "Step 320 | loss: 3.1535 | val loss: 0.0000\n",
      "Step 330 | loss: 3.1389 | val loss: 0.0000\n",
      "Step 340 | loss: 3.1251 | val loss: 0.0000\n",
      "Step 350 | loss: 3.1121 | val loss: 0.0000\n",
      "Step 360 | loss: 3.0997 | val loss: 0.0000\n",
      "Step 370 | loss: 3.0879 | val loss: 0.0000\n",
      "Step 380 | loss: 3.0768 | val loss: 0.0000\n",
      "Step 390 | loss: 3.0662 | val loss: 0.0000\n",
      "Step 400 | loss: 3.0563 | val loss: 0.0000\n",
      "Step 410 | loss: 3.0470 | val loss: 0.0000\n",
      "Step 420 | loss: 3.0383 | val loss: 0.0000\n",
      "Step 430 | loss: 3.0302 | val loss: 0.0000\n",
      "Step 440 | loss: 3.0227 | val loss: 0.0000\n",
      "Step 450 | loss: 3.0158 | val loss: 0.0000\n",
      "Step 460 | loss: 3.0095 | val loss: 0.0000\n",
      "Step 470 | loss: 3.0036 | val loss: 0.0000\n",
      "Step 480 | loss: 2.9982 | val loss: 0.0000\n",
      "Step 490 | loss: 2.9931 | val loss: 0.0000\n",
      "Step 500 | loss: 2.9883 | val loss: 0.0000\n",
      "Step 510 | loss: 2.9838 | val loss: 0.0000\n",
      "Step 520 | loss: 2.9793 | val loss: 0.0000\n",
      "Step 530 | loss: 2.9748 | val loss: 0.0000\n",
      "Step 540 | loss: 2.9702 | val loss: 0.0000\n",
      "Step 550 | loss: 2.9656 | val loss: 0.0000\n",
      "Step 560 | loss: 2.9609 | val loss: 0.0000\n",
      "Step 570 | loss: 2.9561 | val loss: 0.0000\n",
      "Step 580 | loss: 2.9511 | val loss: 0.0000\n",
      "Step 590 | loss: 2.9461 | val loss: 0.0000\n",
      "Step 600 | loss: 2.9409 | val loss: 0.0000\n",
      "Step 610 | loss: 2.9357 | val loss: 0.0000\n",
      "Step 620 | loss: 2.9302 | val loss: 0.0000\n",
      "Step 630 | loss: 2.9247 | val loss: 0.0000\n",
      "Step 640 | loss: 2.9189 | val loss: 0.0000\n",
      "Step 650 | loss: 2.9128 | val loss: 0.0000\n",
      "Step 660 | loss: 2.9064 | val loss: 0.0000\n",
      "Step 670 | loss: 2.8995 | val loss: 0.0000\n",
      "Step 680 | loss: 2.8919 | val loss: 0.0000\n",
      "Step 690 | loss: 2.8834 | val loss: 0.0000\n",
      "Step 700 | loss: 2.8738 | val loss: 0.0000\n",
      "Step 710 | loss: 2.8628 | val loss: 0.0000\n",
      "Step 720 | loss: 2.8499 | val loss: 0.0000\n",
      "Step 730 | loss: 2.8350 | val loss: 0.0000\n",
      "Step 740 | loss: 2.8179 | val loss: 0.0000\n",
      "Step 750 | loss: 2.7988 | val loss: 0.0000\n",
      "Step 760 | loss: 2.7781 | val loss: 0.0000\n",
      "Step 770 | loss: 2.7560 | val loss: 0.0000\n",
      "Step 780 | loss: 2.7332 | val loss: 0.0000\n",
      "Step 790 | loss: 2.7098 | val loss: 0.0000\n",
      "Step 800 | loss: 2.6864 | val loss: 0.0000\n",
      "Step 810 | loss: 2.6633 | val loss: 0.0000\n",
      "Step 820 | loss: 2.6410 | val loss: 0.0000\n",
      "Step 830 | loss: 2.6201 | val loss: 0.0000\n",
      "Step 840 | loss: 2.6012 | val loss: 0.0000\n",
      "Step 850 | loss: 2.5853 | val loss: 0.0000\n",
      "Step 860 | loss: 2.5724 | val loss: 0.0000\n",
      "Step 870 | loss: 2.5618 | val loss: 0.0000\n",
      "Step 880 | loss: 2.5534 | val loss: 0.0000\n",
      "Step 890 | loss: 2.6277 | val loss: 0.0000\n",
      "Step 900 | loss: 2.5990 | val loss: 0.0000\n",
      "Step 910 | loss: 2.6658 | val loss: 0.0000\n",
      "Step 920 | loss: 2.6567 | val loss: 0.0000\n",
      "Step 930 | loss: 2.6418 | val loss: 0.0000\n",
      "Step 940 | loss: 2.7561 | val loss: 0.0000\n",
      "Step 950 | loss: 2.5552 | val loss: 0.0000\n",
      "Step 960 | loss: 2.8637 | val loss: 0.0000\n",
      "Step 970 | loss: 2.6540 | val loss: 0.0000\n",
      "Step 980 | loss: 2.6838 | val loss: 0.0000\n",
      "Step 990 | loss: 2.9424 | val loss: 0.0000\n",
      "loss: 2.6344 validation loss: 0.0000\n"
     ]
    }
   ],
   "source": [
    "torch.manual_seed(13)\n",
    "nn2 = MlpLM(1, 2)\n",
    "nn2.train(xs_train[:1000], ys_train[:1000], None, None, None, 1000)"
   ]
  },
  {
   "cell_type": "code",
   "execution_count": 50,
   "metadata": {},
   "outputs": [
    {
     "data": {
      "text/plain": [
       "[<matplotlib.lines.Line2D at 0x785d19024940>]"
      ]
     },
     "execution_count": 50,
     "metadata": {},
     "output_type": "execute_result"
    },
    {
     "data": {
      "image/png": "[encoded data removed]",
      "text/plain": [
       "<Figure size 640x480 with 1 Axes>"
      ]
     },
     "metadata": {},
     "output_type": "display_data"
    }
   ],
   "source": [
    "plt.plot(nn2.lri, nn2.losses)"
   ]
  },
  {
   "cell_type": "code",
   "execution_count": 51,
   "metadata": {},
   "outputs": [
    {
     "data": {
      "text/plain": [
       "0.31622776601683794"
      ]
     },
     "execution_count": 51,
     "metadata": {},
     "output_type": "execute_result"
    }
   ],
   "source": [
    "10**-0.5"
   ]
  },
  {
   "cell_type": "code",
   "execution_count": 54,
   "metadata": {},
   "outputs": [
    {
     "name": "stdout",
     "output_type": "stream",
     "text": [
      "Model has 3390 parameters!\n",
      "Using 293606 samples\n",
      "Step 0 | loss: 5.5113 | val loss: 4.0390\n",
      "Step 10 | loss: 3.1145 | val loss: 3.0991\n",
      "Step 20 | loss: 3.0277 | val loss: 3.0233\n",
      "Step 30 | loss: 3.0006 | val loss: 2.9991\n",
      "Step 40 | loss: 2.9854 | val loss: 2.9840\n",
      "Step 50 | loss: 2.9697 | val loss: 2.9681\n",
      "Step 60 | loss: 2.9515 | val loss: 2.9495\n",
      "Step 70 | loss: 2.9296 | val loss: 2.9273\n",
      "Step 80 | loss: 2.9043 | val loss: 2.9017\n",
      "Step 90 | loss: 2.8764 | val loss: 2.8737\n",
      "Step 100 | loss: 2.8470 | val loss: 2.8444\n",
      "Step 110 | loss: 2.8172 | val loss: 2.8149\n",
      "Step 120 | loss: 2.7890 | val loss: 2.7872\n",
      "Step 130 | loss: 2.7637 | val loss: 2.7624\n",
      "Step 140 | loss: 2.7415 | val loss: 2.7408\n",
      "Step 150 | loss: 2.7221 | val loss: 2.7219\n",
      "Step 160 | loss: 2.7053 | val loss: 2.7055\n",
      "Step 170 | loss: 2.6909 | val loss: 2.6916\n",
      "Step 180 | loss: 2.6791 | val loss: 2.6803\n",
      "Step 190 | loss: 2.6698 | val loss: 2.6714\n",
      "Step 200 | loss: 2.6623 | val loss: 2.6642\n",
      "Step 210 | loss: 2.6562 | val loss: 2.6583\n",
      "Step 220 | loss: 2.6510 | val loss: 2.6533\n",
      "Step 230 | loss: 2.6466 | val loss: 2.6491\n",
      "Step 240 | loss: 2.6428 | val loss: 2.6454\n",
      "Step 250 | loss: 2.6395 | val loss: 2.6422\n",
      "Step 260 | loss: 2.6366 | val loss: 2.6395\n",
      "Step 270 | loss: 2.6341 | val loss: 2.6371\n",
      "Step 280 | loss: 2.6320 | val loss: 2.6350\n",
      "Step 290 | loss: 2.6301 | val loss: 2.6332\n",
      "loss: 2.6286 validation loss: 2.6318\n"
     ]
    }
   ],
   "source": [
    "torch.manual_seed(13)\n",
    "nn2 = MlpLM(1, 2)\n",
    "nn2.train(xs_train, ys_train, xs_valid, ys_valid, 0.3, 300)"
   ]
  },
  {
   "cell_type": "code",
   "execution_count": 55,
   "metadata": {},
   "outputs": [
    {
     "data": {
      "image/png": "[encoded data removed]",
      "text/plain": [
       "<Figure size 2000x1000 with 2 Axes>"
      ]
     },
     "metadata": {},
     "output_type": "display_data"
    }
   ],
   "source": [
    "plot_training_loss(nn2)"
   ]
  },
  {
   "cell_type": "code",
   "execution_count": null,
   "metadata": {},
   "outputs": [],
   "source": []
  }
 ],
 "metadata": {
  "kernelspec": {
   "display_name": ".venv",
   "language": "python",
   "name": "python3"
  },
  "language_info": {
   "codemirror_mode": {
    "name": "ipython",
    "version": 3
   },
   "file_extension": ".py",
   "mimetype": "text/x-python",
   "name": "python",
   "nbconvert_exporter": "python",
   "pygments_lexer": "ipython3",
   "version": "3.10.12"
  }
 },
 "nbformat": 4,
 "nbformat_minor": 2
}
