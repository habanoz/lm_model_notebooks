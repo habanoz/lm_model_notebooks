{
 "cells": [
  {
   "cell_type": "code",
   "execution_count": 117,
   "metadata": {},
   "outputs": [],
   "source": [
    "import torch\n",
    "from torch.nn import functional as F\n",
    "from matplotlib import pyplot as plt\n",
    "import random"
   ]
  },
  {
   "cell_type": "markdown",
   "metadata": {},
   "source": [
    "## Load data"
   ]
  },
  {
   "cell_type": "code",
   "execution_count": 118,
   "metadata": {},
   "outputs": [
    {
     "name": "stderr",
     "output_type": "stream",
     "text": [
      "'wget' is not recognized as an internal or external command,\n",
      "operable program or batch file.\n"
     ]
    }
   ],
   "source": [
    "!wget https://raw.githubusercontent.com/ncarkaci/TDKDictionaryCrawler/master/ortak_kelimeler.txt"
   ]
  },
  {
   "cell_type": "code",
   "execution_count": 119,
   "metadata": {},
   "outputs": [],
   "source": [
    "with open(\"ortak_kelimeler.txt\", encoding='utf-8') as f:\n",
    "    text = f.read()"
   ]
  },
  {
   "cell_type": "code",
   "execution_count": 120,
   "metadata": {},
   "outputs": [],
   "source": [
    "words = text.split(\"\\n\")"
   ]
  },
  {
   "cell_type": "code",
   "execution_count": 121,
   "metadata": {},
   "outputs": [
    {
     "data": {
      "text/plain": [
       "29"
      ]
     },
     "execution_count": 121,
     "metadata": {},
     "output_type": "execute_result"
    }
   ],
   "source": [
    "long_text = text.replace(\"\\n\",\"\")\n",
    "ids = list(set(long_text))\n",
    "len(ids)"
   ]
  },
  {
   "cell_type": "code",
   "execution_count": 122,
   "metadata": {},
   "outputs": [
    {
     "data": {
      "text/plain": [
       "[(97, 'a'),\n",
       " (98, 'b'),\n",
       " (99, 'c'),\n",
       " (100, 'd'),\n",
       " (101, 'e'),\n",
       " (102, 'f'),\n",
       " (103, 'g'),\n",
       " (104, 'h'),\n",
       " (105, 'i'),\n",
       " (106, 'j'),\n",
       " (107, 'k'),\n",
       " (108, 'l'),\n",
       " (109, 'm'),\n",
       " (110, 'n'),\n",
       " (111, 'o'),\n",
       " (112, 'p'),\n",
       " (114, 'r'),\n",
       " (115, 's'),\n",
       " (116, 't'),\n",
       " (117, 'u'),\n",
       " (118, 'v'),\n",
       " (121, 'y'),\n",
       " (122, 'z'),\n",
       " (231, 'ç'),\n",
       " (246, 'ö'),\n",
       " (252, 'ü'),\n",
       " (287, 'ğ'),\n",
       " (305, 'ı'),\n",
       " (351, 'ş')]"
      ]
     },
     "execution_count": 122,
     "metadata": {},
     "output_type": "execute_result"
    }
   ],
   "source": [
    "ordinal_char_pairs = sorted([(ord(c),c) for c in ids])\n",
    "ordinal_char_pairs"
   ]
  },
  {
   "cell_type": "code",
   "execution_count": 123,
   "metadata": {},
   "outputs": [
    {
     "data": {
      "text/plain": [
       "29"
      ]
     },
     "execution_count": 123,
     "metadata": {},
     "output_type": "execute_result"
    }
   ],
   "source": [
    "len(ordinal_char_pairs)"
   ]
  },
  {
   "cell_type": "markdown",
   "metadata": {},
   "source": [
    "## Encode & Decode Functions"
   ]
  },
  {
   "cell_type": "code",
   "execution_count": 124,
   "metadata": {},
   "outputs": [],
   "source": [
    "ctoi = {c:i for i,(o,c) in enumerate(ordinal_char_pairs)}\n",
    "itoc =  {i:c for i,(o,c) in enumerate(ordinal_char_pairs)}"
   ]
  },
  {
   "cell_type": "code",
   "execution_count": 125,
   "metadata": {},
   "outputs": [],
   "source": [
    "ctoi['.']=len(ctoi)\n",
    "itoc[len(itoc)]='.'"
   ]
  },
  {
   "cell_type": "code",
   "execution_count": 126,
   "metadata": {},
   "outputs": [],
   "source": [
    "def encode(input:str):\n",
    "    return [ctoi[c] for c in input]\n",
    "\n",
    "def decode(ids):\n",
    "    return \"\".join([itoc[i] for i in ids])"
   ]
  },
  {
   "cell_type": "code",
   "execution_count": 127,
   "metadata": {},
   "outputs": [],
   "source": [
    "assert decode(encode(\"zemberek\"))=='zemberek'"
   ]
  },
  {
   "cell_type": "markdown",
   "metadata": {},
   "source": [
    "## Helpers"
   ]
  },
  {
   "cell_type": "code",
   "execution_count": 128,
   "metadata": {},
   "outputs": [],
   "source": [
    "def plot_training_loss(nn):\n",
    "    fig, axs = plt.subplots(1, 2, figsize=(20, 10))\n",
    "\n",
    "\n",
    "    axs[0].plot(nn.losses, label=\"Neural net train loss\")\n",
    "    axs[0].plot(nn.val_loss, label=\"Neural net val loss\")\n",
    "    axs[0].set_title('Losses')\n",
    "    axs[0].legend()\n",
    "\n",
    "    axs[1].plot([g[1] for g in nn.grads], label=\"Max\")\n",
    "    axs[1].plot([g[0] for g in nn.grads], label=\"Min\")\n",
    "    axs[1].plot([g[2] for g in nn.grads], label=\"Avg\")\n",
    "    axs[1].set_title('Gradients')\n",
    "    axs[1].legend()\n",
    "\n",
    "    plt.show()"
   ]
  },
  {
   "cell_type": "markdown",
   "metadata": {},
   "source": [
    "## Prepare Training Data"
   ]
  },
  {
   "cell_type": "code",
   "execution_count": 129,
   "metadata": {},
   "outputs": [],
   "source": [
    "def generate_data(words, block_size):\n",
    "    xs, ys = [], []\n",
    "    for w in words:\n",
    "        context = [ctoi[\".\"]]*block_size\n",
    "        for c in w+'.':\n",
    "            id = ctoi[c]\n",
    "\n",
    "            xs.append(context)\n",
    "            ys.append(id)\n",
    "\n",
    "            context = context[1:]+[id]\n",
    "\n",
    "    print(f\"Generated {len(xs)} samples\")\n",
    "\n",
    "    xs = torch.tensor(xs)\n",
    "    ys = torch.tensor(ys)\n",
    "\n",
    "    return xs, ys"
   ]
  },
  {
   "cell_type": "code",
   "execution_count": 130,
   "metadata": {},
   "outputs": [],
   "source": [
    "random.seed(13)\n",
    "random.shuffle(words)\n",
    "\n",
    "n = len(words)\n",
    "n1 = int(n*0.8)\n",
    "n2 = int(n*0.9)"
   ]
  },
  {
   "cell_type": "code",
   "execution_count": 131,
   "metadata": {},
   "outputs": [],
   "source": [
    "LR = 10"
   ]
  },
  {
   "cell_type": "markdown",
   "metadata": {},
   "source": [
    "## Train"
   ]
  },
  {
   "cell_type": "code",
   "execution_count": 132,
   "metadata": {},
   "outputs": [],
   "source": [
    "class MlpLM:\n",
    "    def __init__(self, block_size, n_embd):\n",
    "\n",
    "        self.block_size = block_size\n",
    "        self.n_embd = n_embd\n",
    "\n",
    "        self.C = torch.randn((30, self.n_embd))\n",
    "        self.W1 = torch.randn((self.n_embd*self.block_size, 100))\n",
    "        self.b1 = torch.randn(100)\n",
    "        self.W2 = torch.randn((100, 30))\n",
    "        self.b2 = torch.randn(30)\n",
    "        self.parameters = [self.C, self.W1, self.b1, self.W2, self.b2]\n",
    "\n",
    "        # for logging\n",
    "        self.losses = None\n",
    "        self.val_losses = None\n",
    "        self.grads = None\n",
    "        self.lri = None\n",
    "\n",
    "    def forward(self, ix):\n",
    "        assert len(ix.shape) == 2\n",
    "        assert ix.shape[1] == self.block_size\n",
    "        batch_size = ix.shape[0]\n",
    "\n",
    "        # 1- embeddings\n",
    "        embd = self.C[ix].float()\n",
    "        embd = embd.view(-1, self.block_size * self.n_embd)\n",
    "        assert embd.shape == (batch_size, self.block_size * self.n_embd)\n",
    "\n",
    "        # 2- hidden layer\n",
    "        h = torch.tanh(embd@self.W1 + self.b1)\n",
    "        assert h.shape == (batch_size, 100)\n",
    "\n",
    "        logits = h@self.W2 + self.b2\n",
    "        assert logits.shape == (batch_size, 30)\n",
    "\n",
    "        # 3- softmax\n",
    "        counts = logits.exp() + 1e-20\n",
    "        probs = counts / counts.sum(dim=-1, keepdim=True)\n",
    "\n",
    "        assert probs.shape == (batch_size, 30)\n",
    "        for b in range(batch_size):\n",
    "            assert probs[b].sum().item()-1.0 < 1e-4, f\"Prob sum for batch {b} is {probs[b].sum().item()}\"\n",
    "\n",
    "        return logits, probs\n",
    "\n",
    "    def train(self, xs, ys, xval, yval, lr=0.1, steps=1000):\n",
    "        self.losses = []\n",
    "        self.val_losses = []\n",
    "        self.grads = []\n",
    "\n",
    "        if lr is None:\n",
    "            self.lri = []\n",
    "            lre = torch.linspace(-3, 0, steps)\n",
    "            lrs = 10**lre\n",
    "\n",
    "        for p in self.parameters:\n",
    "            p.requires_grad = True\n",
    "\n",
    "        print(f\"Model has {sum([p.nelement() for p in self.parameters])} parameters!\")\n",
    "        print(f\"Using {len(xs)} samples\")\n",
    "\n",
    "        # set default loss value to zero\n",
    "        loss = val_loss = torch.zeros((1))[0]\n",
    "\n",
    "        # training loop\n",
    "        for i in range(steps):\n",
    "            logits, probs = self.forward(xs)\n",
    "\n",
    "            # loss: negative log likelihood\n",
    "            loss = -probs[torch.arange(len(xs)), ys].log().mean()\n",
    "            loss_f = F.cross_entropy(logits, ys)\n",
    "            assert abs(loss-loss_f) < 1e-3, f\"Loss mismatch {loss} vs {loss_f} diff {abs(loss-loss_f)}\"\n",
    "\n",
    "            # backward\n",
    "            for p in self.parameters:\n",
    "                p.grad = None\n",
    "\n",
    "            loss.backward()\n",
    "\n",
    "            if self.lri is not None:\n",
    "                lr = lrs[i]\n",
    "                self.lri.append(lre[i])\n",
    "\n",
    "            # update weights\n",
    "            for p in self.parameters:\n",
    "                p.data -= lr * p.grad\n",
    "\n",
    "            # log validation loss\n",
    "            if xval is not None:\n",
    "                with torch.no_grad():\n",
    "                    val_logits, val_probs = self.forward(xval)\n",
    "                    val_loss = -val_probs[torch.arange(len(xval)), yval].log().mean()\n",
    "\n",
    "                    val_loss_f = F.cross_entropy(val_logits, yval)\n",
    "                    assert abs(val_loss-val_loss_f) < 1e-3, f\"Val loss mismatch {val_loss} vs {val_loss_f} diff {abs(val_loss-val_loss_f)}\"\n",
    "                    \n",
    "                    self.val_losses.append(val_loss.item())\n",
    "\n",
    "            # report losses\n",
    "            if steps <= 20 or i % 10 == 0:\n",
    "                print(f\"Step {i} | loss: {loss.item():.4f} | val loss: {val_loss.item():.4f}\")\n",
    "\n",
    "            # logging\n",
    "            self.losses.append(loss.item())\n",
    "            self.grads.append([\n",
    "                min([p.grad.min().item() for p in self.parameters]),\n",
    "                max([p.grad.max().item() for p in self.parameters]),\n",
    "                sum([p.grad.mean().item()\n",
    "                    for p in self.parameters])/len(self.parameters)\n",
    "            ]\n",
    "            )\n",
    "\n",
    "        print(f\"loss: {loss.item():.4f} validation loss: {val_loss.item():.4f}\")\n",
    "\n",
    "    def generate(self):\n",
    "        reverse_offset = -self.n+1\n",
    "        n_start_chars = self.n-1\n",
    "\n",
    "        chars = torch.tensor([ctoi['.']]*n_start_chars, dtype=torch.int)\n",
    "\n",
    "        while True:\n",
    "            probs = self.forward(chars[reverse_offset:])\n",
    "            assert probs.shape == (30,), f\"{probs.shape=}\"\n",
    "\n",
    "            next_char = torch.multinomial(probs, 1, replacement=True)\n",
    "\n",
    "            if next_char.item() == ctoi['.']:\n",
    "                return decode(list(chars.numpy())[n_start_chars:])\n",
    "\n",
    "            chars = torch.concat((chars, next_char), dim=-1)"
   ]
  },
  {
   "cell_type": "markdown",
   "metadata": {},
   "source": [
    "### Context length 1 (Bi-gram)"
   ]
  },
  {
   "cell_type": "code",
   "execution_count": 133,
   "metadata": {},
   "outputs": [
    {
     "name": "stdout",
     "output_type": "stream",
     "text": [
      "Generated 293606 samples\n",
      "Generated 36892 samples\n"
     ]
    }
   ],
   "source": [
    "block_size = 1\n",
    "xs_train, ys_train = generate_data(words[:n1], block_size)\n",
    "xs_valid, ys_valid = generate_data(words[n1:n2], block_size)\n",
    "# xs_test, ys_test = generate_data(words[n2:], block_size)"
   ]
  },
  {
   "cell_type": "code",
   "execution_count": 134,
   "metadata": {},
   "outputs": [
    {
     "name": "stdout",
     "output_type": "stream",
     "text": [
      ".p\n",
      "pa\n",
      "an\n",
      "nt\n",
      "te\n",
      "ei\n",
      "iz\n",
      "zm\n",
      "m.\n",
      ".f\n"
     ]
    }
   ],
   "source": [
    "for i in range(10):\n",
    "    print(decode(list(torch.concat((xs_train[i], ys_train[i,None])).numpy())))"
   ]
  },
  {
   "cell_type": "code",
   "execution_count": 135,
   "metadata": {},
   "outputs": [
    {
     "name": "stdout",
     "output_type": "stream",
     "text": [
      "Model has 3390 parameters!\n",
      "Using 1000 samples\n",
      "Step 0 | loss: 19.0845 | val loss: 0.0000\n"
     ]
    },
    {
     "name": "stdout",
     "output_type": "stream",
     "text": [
      "Step 10 | loss: 18.5175 | val loss: 0.0000\n",
      "Step 20 | loss: 17.9242 | val loss: 0.0000\n",
      "Step 30 | loss: 17.3118 | val loss: 0.0000\n",
      "Step 40 | loss: 16.6951 | val loss: 0.0000\n",
      "Step 50 | loss: 16.0959 | val loss: 0.0000\n",
      "Step 60 | loss: 15.5331 | val loss: 0.0000\n",
      "Step 70 | loss: 15.0117 | val loss: 0.0000\n",
      "Step 80 | loss: 14.5213 | val loss: 0.0000\n",
      "Step 90 | loss: 14.0458 | val loss: 0.0000\n",
      "Step 100 | loss: 13.5727 | val loss: 0.0000\n",
      "Step 110 | loss: 13.0953 | val loss: 0.0000\n",
      "Step 120 | loss: 12.6109 | val loss: 0.0000\n",
      "Step 130 | loss: 12.1203 | val loss: 0.0000\n",
      "Step 140 | loss: 11.6279 | val loss: 0.0000\n",
      "Step 150 | loss: 11.1434 | val loss: 0.0000\n",
      "Step 160 | loss: 10.6826 | val loss: 0.0000\n",
      "Step 170 | loss: 10.2584 | val loss: 0.0000\n",
      "Step 180 | loss: 9.8690 | val loss: 0.0000\n",
      "Step 190 | loss: 9.5022 | val loss: 0.0000\n",
      "Step 200 | loss: 9.1497 | val loss: 0.0000\n",
      "Step 210 | loss: 8.8124 | val loss: 0.0000\n",
      "Step 220 | loss: 8.4963 | val loss: 0.0000\n",
      "Step 230 | loss: 8.2060 | val loss: 0.0000\n",
      "Step 240 | loss: 7.9410 | val loss: 0.0000\n",
      "Step 250 | loss: 7.6965 | val loss: 0.0000\n",
      "Step 260 | loss: 7.4670 | val loss: 0.0000\n",
      "Step 270 | loss: 7.2474 | val loss: 0.0000\n",
      "Step 280 | loss: 7.0337 | val loss: 0.0000\n",
      "Step 290 | loss: 6.8233 | val loss: 0.0000\n",
      "Step 300 | loss: 6.6145 | val loss: 0.0000\n",
      "Step 310 | loss: 6.4066 | val loss: 0.0000\n",
      "Step 320 | loss: 6.1995 | val loss: 0.0000\n",
      "Step 330 | loss: 5.9944 | val loss: 0.0000\n",
      "Step 340 | loss: 5.7936 | val loss: 0.0000\n",
      "Step 350 | loss: 5.6006 | val loss: 0.0000\n",
      "Step 360 | loss: 5.4178 | val loss: 0.0000\n",
      "Step 370 | loss: 5.2457 | val loss: 0.0000\n",
      "Step 380 | loss: 5.0832 | val loss: 0.0000\n",
      "Step 390 | loss: 4.9291 | val loss: 0.0000\n",
      "Step 400 | loss: 4.7836 | val loss: 0.0000\n",
      "Step 410 | loss: 4.6479 | val loss: 0.0000\n",
      "Step 420 | loss: 4.5234 | val loss: 0.0000\n",
      "Step 430 | loss: 4.4104 | val loss: 0.0000\n",
      "Step 440 | loss: 4.3070 | val loss: 0.0000\n",
      "Step 450 | loss: 4.2108 | val loss: 0.0000\n",
      "Step 460 | loss: 4.1203 | val loss: 0.0000\n",
      "Step 470 | loss: 4.0345 | val loss: 0.0000\n",
      "Step 480 | loss: 3.9525 | val loss: 0.0000\n",
      "Step 490 | loss: 3.8738 | val loss: 0.0000\n",
      "Step 500 | loss: 3.7983 | val loss: 0.0000\n",
      "Step 510 | loss: 3.7258 | val loss: 0.0000\n",
      "Step 520 | loss: 3.6566 | val loss: 0.0000\n",
      "Step 530 | loss: 3.5906 | val loss: 0.0000\n",
      "Step 540 | loss: 3.5279 | val loss: 0.0000\n",
      "Step 550 | loss: 3.4681 | val loss: 0.0000\n",
      "Step 560 | loss: 3.4119 | val loss: 0.0000\n",
      "Step 570 | loss: 3.3601 | val loss: 0.0000\n",
      "Step 580 | loss: 3.3135 | val loss: 0.0000\n",
      "Step 590 | loss: 3.2723 | val loss: 0.0000\n",
      "Step 600 | loss: 3.2364 | val loss: 0.0000\n",
      "Step 610 | loss: 3.2046 | val loss: 0.0000\n",
      "Step 620 | loss: 3.1754 | val loss: 0.0000\n",
      "Step 630 | loss: 3.1476 | val loss: 0.0000\n",
      "Step 640 | loss: 3.1207 | val loss: 0.0000\n",
      "Step 650 | loss: 3.0945 | val loss: 0.0000\n",
      "Step 660 | loss: 3.0689 | val loss: 0.0000\n",
      "Step 670 | loss: 3.0438 | val loss: 0.0000\n",
      "Step 680 | loss: 3.0193 | val loss: 0.0000\n",
      "Step 690 | loss: 2.9956 | val loss: 0.0000\n",
      "Step 700 | loss: 2.9728 | val loss: 0.0000\n",
      "Step 710 | loss: 2.9511 | val loss: 0.0000\n",
      "Step 720 | loss: 2.9303 | val loss: 0.0000\n",
      "Step 730 | loss: 2.9099 | val loss: 0.0000\n",
      "Step 740 | loss: 2.8895 | val loss: 0.0000\n",
      "Step 750 | loss: 2.8683 | val loss: 0.0000\n",
      "Step 760 | loss: 2.8453 | val loss: 0.0000\n",
      "Step 770 | loss: 2.8201 | val loss: 0.0000\n",
      "Step 780 | loss: 2.7941 | val loss: 0.0000\n",
      "Step 790 | loss: 2.7693 | val loss: 0.0000\n",
      "Step 800 | loss: 2.7465 | val loss: 0.0000\n",
      "Step 810 | loss: 2.7254 | val loss: 0.0000\n",
      "Step 820 | loss: 2.7050 | val loss: 0.0000\n",
      "Step 830 | loss: 2.6845 | val loss: 0.0000\n",
      "Step 840 | loss: 2.8415 | val loss: 0.0000\n",
      "Step 850 | loss: 2.8130 | val loss: 0.0000\n",
      "Step 860 | loss: 3.0208 | val loss: 0.0000\n",
      "Step 870 | loss: 3.1325 | val loss: 0.0000\n",
      "Step 880 | loss: 2.9737 | val loss: 0.0000\n",
      "Step 890 | loss: 2.7944 | val loss: 0.0000\n",
      "Step 900 | loss: 3.0859 | val loss: 0.0000\n",
      "Step 910 | loss: 3.0438 | val loss: 0.0000\n",
      "Step 920 | loss: 3.2271 | val loss: 0.0000\n",
      "Step 930 | loss: 3.6854 | val loss: 0.0000\n",
      "Step 940 | loss: 3.2169 | val loss: 0.0000\n",
      "Step 950 | loss: 3.5837 | val loss: 0.0000\n",
      "Step 960 | loss: 3.3198 | val loss: 0.0000\n",
      "Step 970 | loss: 4.1486 | val loss: 0.0000\n",
      "Step 980 | loss: 3.5397 | val loss: 0.0000\n",
      "Step 990 | loss: 3.5119 | val loss: 0.0000\n",
      "loss: 3.7984 validation loss: 0.0000\n"
     ]
    }
   ],
   "source": [
    "torch.manual_seed(13)\n",
    "nn2 = MlpLM(1, 2)\n",
    "nn2.train(xs_train[:1000], ys_train[:1000], None, None, None, 1000)"
   ]
  },
  {
   "cell_type": "code",
   "execution_count": 136,
   "metadata": {},
   "outputs": [
    {
     "data": {
      "text/plain": [
       "[<matplotlib.lines.Line2D at 0x18dcf452770>]"
      ]
     },
     "execution_count": 136,
     "metadata": {},
     "output_type": "execute_result"
    },
    {
     "data": {
      "image/png": "[encoded data removed]",
      "text/plain": [
       "<Figure size 640x480 with 1 Axes>"
      ]
     },
     "metadata": {},
     "output_type": "display_data"
    }
   ],
   "source": [
    "plt.plot(nn2.lri, nn2.losses)"
   ]
  },
  {
   "cell_type": "code",
   "execution_count": 137,
   "metadata": {},
   "outputs": [
    {
     "data": {
      "text/plain": [
       "0.31622776601683794"
      ]
     },
     "execution_count": 137,
     "metadata": {},
     "output_type": "execute_result"
    }
   ],
   "source": [
    "10**-0.5"
   ]
  },
  {
   "cell_type": "code",
   "execution_count": 138,
   "metadata": {},
   "outputs": [
    {
     "name": "stdout",
     "output_type": "stream",
     "text": [
      "Model has 3390 parameters!\n",
      "Using 293606 samples\n"
     ]
    },
    {
     "name": "stdout",
     "output_type": "stream",
     "text": [
      "Step 0 | loss: 19.1857 | val loss: 12.6542\n",
      "Step 10 | loss: 4.4035 | val loss: 4.2943\n",
      "Step 20 | loss: 3.7062 | val loss: 3.6806\n",
      "Step 30 | loss: 3.4425 | val loss: 3.4301\n",
      "Step 40 | loss: 3.3182 | val loss: 3.3117\n",
      "Step 50 | loss: 3.2334 | val loss: 3.2288\n",
      "Step 60 | loss: 3.1712 | val loss: 3.1681\n",
      "Step 70 | loss: 3.1253 | val loss: 3.1234\n",
      "Step 80 | loss: 3.0880 | val loss: 3.0872\n",
      "Step 90 | loss: 3.0559 | val loss: 3.0563\n",
      "Step 100 | loss: 3.0267 | val loss: 3.0281\n",
      "Step 110 | loss: 2.9980 | val loss: 3.0003\n",
      "Step 120 | loss: 2.9674 | val loss: 2.9703\n",
      "Step 130 | loss: 2.9331 | val loss: 2.9364\n",
      "Step 140 | loss: 2.8973 | val loss: 2.9007\n",
      "Step 150 | loss: 2.8633 | val loss: 2.8665\n",
      "Step 160 | loss: 2.8326 | val loss: 2.8355\n",
      "Step 170 | loss: 2.8054 | val loss: 2.8081\n",
      "Step 180 | loss: 2.7819 | val loss: 2.7845\n",
      "Step 190 | loss: 2.7618 | val loss: 2.7644\n",
      "Step 200 | loss: 2.7450 | val loss: 2.7475\n",
      "Step 210 | loss: 2.7313 | val loss: 2.7338\n",
      "Step 220 | loss: 2.7204 | val loss: 2.7230\n",
      "Step 230 | loss: 2.7120 | val loss: 2.7148\n",
      "Step 240 | loss: 2.7056 | val loss: 2.7085\n",
      "Step 250 | loss: 2.7005 | val loss: 2.7034\n",
      "Step 260 | loss: 2.6958 | val loss: 2.6986\n",
      "Step 270 | loss: 2.6909 | val loss: 2.6937\n",
      "Step 280 | loss: 2.6859 | val loss: 2.6888\n"
     ]
    }
   ],
   "source": [
    "torch.manual_seed(13)\n",
    "nn2 = MlpLM(1, 2)\n",
    "nn2.train(xs_train, ys_train, xs_valid, ys_valid, 0.3, 300)"
   ]
  },
  {
   "cell_type": "code",
   "execution_count": null,
   "metadata": {},
   "outputs": [
    {
     "data": {
      "image/png": "[encoded data removed]",
      "text/plain": [
       "<Figure size 2000x1000 with 2 Axes>"
      ]
     },
     "metadata": {},
     "output_type": "display_data"
    }
   ],
   "source": [
    "plot_training_loss(nn2)"
   ]
  },
  {
   "cell_type": "code",
   "execution_count": null,
   "metadata": {},
   "outputs": [],
   "source": []
  }
 ],
 "metadata": {
  "kernelspec": {
   "display_name": ".venv",
   "language": "python",
   "name": "python3"
  },
  "language_info": {
   "codemirror_mode": {
    "name": "ipython",
    "version": 3
   },
   "file_extension": ".py",
   "mimetype": "text/x-python",
   "name": "python",
   "nbconvert_exporter": "python",
   "pygments_lexer": "ipython3",
   "version": "3.10.11"
  }
 },
 "nbformat": 4,
 "nbformat_minor": 2
}
